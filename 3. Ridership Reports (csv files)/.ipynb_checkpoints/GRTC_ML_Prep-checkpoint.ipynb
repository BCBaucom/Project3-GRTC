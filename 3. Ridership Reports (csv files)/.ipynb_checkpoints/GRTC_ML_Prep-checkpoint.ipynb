{
 "cells": [
  {
   "cell_type": "code",
   "execution_count": 13,
   "metadata": {},
   "outputs": [],
   "source": [
    "import os\n",
    "import csv\n",
    "import dask.dataframe as dd\n",
    "import pandas as pd\n",
    "import glob\n"
   ]
  },
  {
   "cell_type": "code",
   "execution_count": 14,
   "metadata": {},
   "outputs": [
    {
     "name": "stdout",
     "output_type": "stream",
     "text": [
      "GRTC Ridership ML.csv\n"
     ]
    }
   ],
   "source": [
    "csv_file = 'GRTC Ridership ML.csv'\n",
    "print(csv_file)"
   ]
  },
  {
   "cell_type": "code",
   "execution_count": 23,
   "metadata": {},
   "outputs": [
    {
     "data": {
      "text/html": [
       "<div>\n",
       "<style scoped>\n",
       "    .dataframe tbody tr th:only-of-type {\n",
       "        vertical-align: middle;\n",
       "    }\n",
       "\n",
       "    .dataframe tbody tr th {\n",
       "        vertical-align: top;\n",
       "    }\n",
       "\n",
       "    .dataframe thead th {\n",
       "        text-align: right;\n",
       "    }\n",
       "</style>\n",
       "<table border=\"1\" class=\"dataframe\">\n",
       "  <thead>\n",
       "    <tr style=\"text-align: right;\">\n",
       "      <th></th>\n",
       "      <th>AVG_PASSENGERS_OFF</th>\n",
       "      <th>AVG_PASSENGERS_ON</th>\n",
       "      <th>AVG_PASSENGER_MILES</th>\n",
       "      <th>AVG_SEGMENT_MILES</th>\n",
       "      <th>SUM_PASSENGERS_OFF</th>\n",
       "      <th>SUM_PASSENGERS_ON</th>\n",
       "      <th>SUM_PASSENGER_MILES</th>\n",
       "      <th>TIME_PERIOD</th>\n",
       "      <th>TRIPS_COUNT</th>\n",
       "      <th>SERVICE_TYPE</th>\n",
       "    </tr>\n",
       "  </thead>\n",
       "  <tbody>\n",
       "    <tr>\n",
       "      <th>0</th>\n",
       "      <td>0</td>\n",
       "      <td>0</td>\n",
       "      <td>NaN</td>\n",
       "      <td>0.361742</td>\n",
       "      <td>0</td>\n",
       "      <td>0</td>\n",
       "      <td>NaN</td>\n",
       "      <td>NaN</td>\n",
       "      <td>2</td>\n",
       "      <td>Local</td>\n",
       "    </tr>\n",
       "    <tr>\n",
       "      <th>1</th>\n",
       "      <td>0</td>\n",
       "      <td>0</td>\n",
       "      <td>NaN</td>\n",
       "      <td>NaN</td>\n",
       "      <td>0</td>\n",
       "      <td>1</td>\n",
       "      <td>NaN</td>\n",
       "      <td>NaN</td>\n",
       "      <td>2</td>\n",
       "      <td>Local</td>\n",
       "    </tr>\n",
       "    <tr>\n",
       "      <th>2</th>\n",
       "      <td>0</td>\n",
       "      <td>0</td>\n",
       "      <td>NaN</td>\n",
       "      <td>0.660227</td>\n",
       "      <td>0</td>\n",
       "      <td>0</td>\n",
       "      <td>NaN</td>\n",
       "      <td>NaN</td>\n",
       "      <td>2</td>\n",
       "      <td>Local</td>\n",
       "    </tr>\n",
       "    <tr>\n",
       "      <th>3</th>\n",
       "      <td>0</td>\n",
       "      <td>0</td>\n",
       "      <td>NaN</td>\n",
       "      <td>0.566098</td>\n",
       "      <td>0</td>\n",
       "      <td>0</td>\n",
       "      <td>NaN</td>\n",
       "      <td>NaN</td>\n",
       "      <td>2</td>\n",
       "      <td>Local</td>\n",
       "    </tr>\n",
       "    <tr>\n",
       "      <th>4</th>\n",
       "      <td>0</td>\n",
       "      <td>2</td>\n",
       "      <td>NaN</td>\n",
       "      <td>NaN</td>\n",
       "      <td>0</td>\n",
       "      <td>4</td>\n",
       "      <td>NaN</td>\n",
       "      <td>NaN</td>\n",
       "      <td>2</td>\n",
       "      <td>Local</td>\n",
       "    </tr>\n",
       "  </tbody>\n",
       "</table>\n",
       "</div>"
      ],
      "text/plain": [
       "   AVG_PASSENGERS_OFF  AVG_PASSENGERS_ON  AVG_PASSENGER_MILES  \\\n",
       "0                   0                  0                  NaN   \n",
       "1                   0                  0                  NaN   \n",
       "2                   0                  0                  NaN   \n",
       "3                   0                  0                  NaN   \n",
       "4                   0                  2                  NaN   \n",
       "\n",
       "   AVG_SEGMENT_MILES  SUM_PASSENGERS_OFF  SUM_PASSENGERS_ON  \\\n",
       "0           0.361742                   0                  0   \n",
       "1                NaN                   0                  1   \n",
       "2           0.660227                   0                  0   \n",
       "3           0.566098                   0                  0   \n",
       "4                NaN                   0                  4   \n",
       "\n",
       "   SUM_PASSENGER_MILES TIME_PERIOD  TRIPS_COUNT SERVICE_TYPE  \n",
       "0                  NaN         NaN            2        Local  \n",
       "1                  NaN         NaN            2        Local  \n",
       "2                  NaN         NaN            2        Local  \n",
       "3                  NaN         NaN            2        Local  \n",
       "4                  NaN         NaN            2        Local  "
      ]
     },
     "execution_count": 23,
     "metadata": {},
     "output_type": "execute_result"
    }
   ],
   "source": [
    "#read CSV file\n",
    "df = pd.read_csv(csv_file,encoding=\"utf-8\")\n",
    "df.head()   "
   ]
  },
  {
   "cell_type": "code",
   "execution_count": 24,
   "metadata": {},
   "outputs": [
    {
     "data": {
      "text/plain": [
       "AVG_PASSENGERS_OFF     91477\n",
       "AVG_PASSENGERS_ON      91477\n",
       "AVG_PASSENGER_MILES    83042\n",
       "AVG_SEGMENT_MILES      82515\n",
       "SUM_PASSENGERS_OFF     91477\n",
       "SUM_PASSENGERS_ON      91477\n",
       "SUM_PASSENGER_MILES    83042\n",
       "TIME_PERIOD            91393\n",
       "TRIPS_COUNT            91477\n",
       "SERVICE_TYPE           91477\n",
       "dtype: int64"
      ]
     },
     "execution_count": 24,
     "metadata": {},
     "output_type": "execute_result"
    }
   ],
   "source": [
    "df.count()"
   ]
  },
  {
   "cell_type": "code",
   "execution_count": 27,
   "metadata": {
    "scrolled": false
   },
   "outputs": [],
   "source": [
    "df = df.dropna(how='any')"
   ]
  },
  {
   "cell_type": "code",
   "execution_count": 28,
   "metadata": {},
   "outputs": [
    {
     "data": {
      "text/plain": [
       "AVG_PASSENGERS_OFF     82459\n",
       "AVG_PASSENGERS_ON      82459\n",
       "AVG_PASSENGER_MILES    82459\n",
       "AVG_SEGMENT_MILES      82459\n",
       "SUM_PASSENGERS_OFF     82459\n",
       "SUM_PASSENGERS_ON      82459\n",
       "SUM_PASSENGER_MILES    82459\n",
       "TIME_PERIOD            82459\n",
       "TRIPS_COUNT            82459\n",
       "SERVICE_TYPE           82459\n",
       "dtype: int64"
      ]
     },
     "execution_count": 28,
     "metadata": {},
     "output_type": "execute_result"
    }
   ],
   "source": [
    "df.count()"
   ]
  },
  {
   "cell_type": "code",
   "execution_count": 29,
   "metadata": {},
   "outputs": [],
   "source": [
    "df.to_csv('GRTC Ridership ML Final.csv', index=False,header=True, encoding='utf-8')"
   ]
  },
  {
   "cell_type": "code",
   "execution_count": null,
   "metadata": {},
   "outputs": [],
   "source": []
  },
  {
   "cell_type": "code",
   "execution_count": null,
   "metadata": {},
   "outputs": [],
   "source": []
  }
 ],
 "metadata": {
  "kernelspec": {
   "display_name": "Python 3",
   "language": "python",
   "name": "python3"
  },
  "language_info": {
   "codemirror_mode": {
    "name": "ipython",
    "version": 3
   },
   "file_extension": ".py",
   "mimetype": "text/x-python",
   "name": "python",
   "nbconvert_exporter": "python",
   "pygments_lexer": "ipython3",
   "version": "3.7.3"
  }
 },
 "nbformat": 4,
 "nbformat_minor": 2
}
